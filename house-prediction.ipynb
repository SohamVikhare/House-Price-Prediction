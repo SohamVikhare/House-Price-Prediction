{
 "cells": [
  {
   "cell_type": "markdown",
   "id": "c907208e",
   "metadata": {
    "papermill": {
     "duration": 0.010125,
     "end_time": "2024-10-28T06:38:54.267589",
     "exception": false,
     "start_time": "2024-10-28T06:38:54.257464",
     "status": "completed"
    },
    "tags": []
   },
   "source": [
    "**IMPORTS**"
   ]
  },
  {
   "cell_type": "code",
   "execution_count": 1,
   "id": "671d6eac",
   "metadata": {
    "execution": {
     "iopub.execute_input": "2024-10-28T06:38:54.288509Z",
     "iopub.status.busy": "2024-10-28T06:38:54.287865Z",
     "iopub.status.idle": "2024-10-28T06:38:57.314588Z",
     "shell.execute_reply": "2024-10-28T06:38:57.313060Z"
    },
    "papermill": {
     "duration": 3.040821,
     "end_time": "2024-10-28T06:38:57.317847",
     "exception": false,
     "start_time": "2024-10-28T06:38:54.277026",
     "status": "completed"
    },
    "tags": []
   },
   "outputs": [],
   "source": [
    "import pandas as pd\n",
    "import numpy as np\n",
    "from sklearn.model_selection import train_test_split\n",
    "from sklearn.linear_model import LogisticRegression,LinearRegression\n",
    "from sklearn.metrics import accuracy_score\n",
    "from sklearn.ensemble import RandomForestClassifier,RandomForestRegressor\n",
    "from sklearn.tree import DecisionTreeRegressor\n",
    "from sklearn.preprocessing import MinMaxScaler,LabelEncoder"
   ]
  },
  {
   "cell_type": "markdown",
   "id": "446e0e64",
   "metadata": {
    "papermill": {
     "duration": 0.008238,
     "end_time": "2024-10-28T06:38:57.335062",
     "exception": false,
     "start_time": "2024-10-28T06:38:57.326824",
     "status": "completed"
    },
    "tags": []
   },
   "source": [
    "**READING DATA FROM FILE**"
   ]
  },
  {
   "cell_type": "code",
   "execution_count": 2,
   "id": "f7aaef29",
   "metadata": {
    "_cell_guid": "b1076dfc-b9ad-4769-8c92-a6c4dae69d19",
    "_uuid": "8f2839f25d086af736a60e9eeb907d3b93b6e0e5",
    "execution": {
     "iopub.execute_input": "2024-10-28T06:38:57.355093Z",
     "iopub.status.busy": "2024-10-28T06:38:57.354032Z",
     "iopub.status.idle": "2024-10-28T06:38:57.410595Z",
     "shell.execute_reply": "2024-10-28T06:38:57.409330Z"
    },
    "papermill": {
     "duration": 0.070179,
     "end_time": "2024-10-28T06:38:57.413875",
     "exception": false,
     "start_time": "2024-10-28T06:38:57.343696",
     "status": "completed"
    },
    "tags": []
   },
   "outputs": [],
   "source": [
    "df = pd.read_csv('/kaggle/input/home-data-for-ml-course/train.csv')"
   ]
  },
  {
   "cell_type": "markdown",
   "id": "eafbd2b7",
   "metadata": {
    "papermill": {
     "duration": 0.008544,
     "end_time": "2024-10-28T06:38:57.431408",
     "exception": false,
     "start_time": "2024-10-28T06:38:57.422864",
     "status": "completed"
    },
    "tags": []
   },
   "source": [
    "****FILLING IN THE GAPS****"
   ]
  },
  {
   "cell_type": "code",
   "execution_count": 3,
   "id": "182e66da",
   "metadata": {
    "execution": {
     "iopub.execute_input": "2024-10-28T06:38:57.452649Z",
     "iopub.status.busy": "2024-10-28T06:38:57.452123Z",
     "iopub.status.idle": "2024-10-28T06:38:57.494970Z",
     "shell.execute_reply": "2024-10-28T06:38:57.493548Z"
    },
    "papermill": {
     "duration": 0.056654,
     "end_time": "2024-10-28T06:38:57.498347",
     "exception": false,
     "start_time": "2024-10-28T06:38:57.441693",
     "status": "completed"
    },
    "tags": []
   },
   "outputs": [],
   "source": [
    "df[df.select_dtypes(include=['int', 'float']).columns] = df.select_dtypes(include=['int', 'float']).fillna(value=0)\n",
    "df[df.select_dtypes(include=['object']).columns] = df.select_dtypes(include=['object']).fillna(value='')"
   ]
  },
  {
   "cell_type": "markdown",
   "id": "929a36f7",
   "metadata": {
    "papermill": {
     "duration": 0.00838,
     "end_time": "2024-10-28T06:38:57.515727",
     "exception": false,
     "start_time": "2024-10-28T06:38:57.507347",
     "status": "completed"
    },
    "tags": []
   },
   "source": [
    "**DATA ANALYSIS**"
   ]
  },
  {
   "cell_type": "code",
   "execution_count": 4,
   "id": "750c23f7",
   "metadata": {
    "execution": {
     "iopub.execute_input": "2024-10-28T06:38:57.535775Z",
     "iopub.status.busy": "2024-10-28T06:38:57.535263Z",
     "iopub.status.idle": "2024-10-28T06:38:57.575100Z",
     "shell.execute_reply": "2024-10-28T06:38:57.574001Z"
    },
    "papermill": {
     "duration": 0.053882,
     "end_time": "2024-10-28T06:38:57.578343",
     "exception": false,
     "start_time": "2024-10-28T06:38:57.524461",
     "status": "completed"
    },
    "tags": []
   },
   "outputs": [
    {
     "data": {
      "text/html": [
       "<div>\n",
       "<style scoped>\n",
       "    .dataframe tbody tr th:only-of-type {\n",
       "        vertical-align: middle;\n",
       "    }\n",
       "\n",
       "    .dataframe tbody tr th {\n",
       "        vertical-align: top;\n",
       "    }\n",
       "\n",
       "    .dataframe thead th {\n",
       "        text-align: right;\n",
       "    }\n",
       "</style>\n",
       "<table border=\"1\" class=\"dataframe\">\n",
       "  <thead>\n",
       "    <tr style=\"text-align: right;\">\n",
       "      <th></th>\n",
       "      <th>Id</th>\n",
       "      <th>MSSubClass</th>\n",
       "      <th>MSZoning</th>\n",
       "      <th>LotFrontage</th>\n",
       "      <th>LotArea</th>\n",
       "      <th>Street</th>\n",
       "      <th>Alley</th>\n",
       "      <th>LotShape</th>\n",
       "      <th>LandContour</th>\n",
       "      <th>Utilities</th>\n",
       "      <th>...</th>\n",
       "      <th>PoolArea</th>\n",
       "      <th>PoolQC</th>\n",
       "      <th>Fence</th>\n",
       "      <th>MiscFeature</th>\n",
       "      <th>MiscVal</th>\n",
       "      <th>MoSold</th>\n",
       "      <th>YrSold</th>\n",
       "      <th>SaleType</th>\n",
       "      <th>SaleCondition</th>\n",
       "      <th>SalePrice</th>\n",
       "    </tr>\n",
       "  </thead>\n",
       "  <tbody>\n",
       "    <tr>\n",
       "      <th>0</th>\n",
       "      <td>1</td>\n",
       "      <td>60</td>\n",
       "      <td>RL</td>\n",
       "      <td>65.0</td>\n",
       "      <td>8450</td>\n",
       "      <td>Pave</td>\n",
       "      <td></td>\n",
       "      <td>Reg</td>\n",
       "      <td>Lvl</td>\n",
       "      <td>AllPub</td>\n",
       "      <td>...</td>\n",
       "      <td>0</td>\n",
       "      <td></td>\n",
       "      <td></td>\n",
       "      <td></td>\n",
       "      <td>0</td>\n",
       "      <td>2</td>\n",
       "      <td>2008</td>\n",
       "      <td>WD</td>\n",
       "      <td>Normal</td>\n",
       "      <td>208500</td>\n",
       "    </tr>\n",
       "    <tr>\n",
       "      <th>1</th>\n",
       "      <td>2</td>\n",
       "      <td>20</td>\n",
       "      <td>RL</td>\n",
       "      <td>80.0</td>\n",
       "      <td>9600</td>\n",
       "      <td>Pave</td>\n",
       "      <td></td>\n",
       "      <td>Reg</td>\n",
       "      <td>Lvl</td>\n",
       "      <td>AllPub</td>\n",
       "      <td>...</td>\n",
       "      <td>0</td>\n",
       "      <td></td>\n",
       "      <td></td>\n",
       "      <td></td>\n",
       "      <td>0</td>\n",
       "      <td>5</td>\n",
       "      <td>2007</td>\n",
       "      <td>WD</td>\n",
       "      <td>Normal</td>\n",
       "      <td>181500</td>\n",
       "    </tr>\n",
       "    <tr>\n",
       "      <th>2</th>\n",
       "      <td>3</td>\n",
       "      <td>60</td>\n",
       "      <td>RL</td>\n",
       "      <td>68.0</td>\n",
       "      <td>11250</td>\n",
       "      <td>Pave</td>\n",
       "      <td></td>\n",
       "      <td>IR1</td>\n",
       "      <td>Lvl</td>\n",
       "      <td>AllPub</td>\n",
       "      <td>...</td>\n",
       "      <td>0</td>\n",
       "      <td></td>\n",
       "      <td></td>\n",
       "      <td></td>\n",
       "      <td>0</td>\n",
       "      <td>9</td>\n",
       "      <td>2008</td>\n",
       "      <td>WD</td>\n",
       "      <td>Normal</td>\n",
       "      <td>223500</td>\n",
       "    </tr>\n",
       "  </tbody>\n",
       "</table>\n",
       "<p>3 rows × 81 columns</p>\n",
       "</div>"
      ],
      "text/plain": [
       "   Id  MSSubClass MSZoning  LotFrontage  LotArea Street Alley LotShape  \\\n",
       "0   1          60       RL         65.0     8450   Pave            Reg   \n",
       "1   2          20       RL         80.0     9600   Pave            Reg   \n",
       "2   3          60       RL         68.0    11250   Pave            IR1   \n",
       "\n",
       "  LandContour Utilities  ... PoolArea PoolQC Fence MiscFeature MiscVal MoSold  \\\n",
       "0         Lvl    AllPub  ...        0                                0      2   \n",
       "1         Lvl    AllPub  ...        0                                0      5   \n",
       "2         Lvl    AllPub  ...        0                                0      9   \n",
       "\n",
       "  YrSold  SaleType  SaleCondition  SalePrice  \n",
       "0   2008        WD         Normal     208500  \n",
       "1   2007        WD         Normal     181500  \n",
       "2   2008        WD         Normal     223500  \n",
       "\n",
       "[3 rows x 81 columns]"
      ]
     },
     "execution_count": 4,
     "metadata": {},
     "output_type": "execute_result"
    }
   ],
   "source": [
    "df.head(3)"
   ]
  },
  {
   "cell_type": "code",
   "execution_count": 5,
   "id": "67c9c7cd",
   "metadata": {
    "execution": {
     "iopub.execute_input": "2024-10-28T06:38:57.599425Z",
     "iopub.status.busy": "2024-10-28T06:38:57.598902Z",
     "iopub.status.idle": "2024-10-28T06:38:57.644506Z",
     "shell.execute_reply": "2024-10-28T06:38:57.643142Z"
    },
    "papermill": {
     "duration": 0.060223,
     "end_time": "2024-10-28T06:38:57.647985",
     "exception": false,
     "start_time": "2024-10-28T06:38:57.587762",
     "status": "completed"
    },
    "tags": []
   },
   "outputs": [
    {
     "name": "stdout",
     "output_type": "stream",
     "text": [
      "<class 'pandas.core.frame.DataFrame'>\n",
      "RangeIndex: 1460 entries, 0 to 1459\n",
      "Data columns (total 81 columns):\n",
      " #   Column         Non-Null Count  Dtype  \n",
      "---  ------         --------------  -----  \n",
      " 0   Id             1460 non-null   int64  \n",
      " 1   MSSubClass     1460 non-null   int64  \n",
      " 2   MSZoning       1460 non-null   object \n",
      " 3   LotFrontage    1460 non-null   float64\n",
      " 4   LotArea        1460 non-null   int64  \n",
      " 5   Street         1460 non-null   object \n",
      " 6   Alley          1460 non-null   object \n",
      " 7   LotShape       1460 non-null   object \n",
      " 8   LandContour    1460 non-null   object \n",
      " 9   Utilities      1460 non-null   object \n",
      " 10  LotConfig      1460 non-null   object \n",
      " 11  LandSlope      1460 non-null   object \n",
      " 12  Neighborhood   1460 non-null   object \n",
      " 13  Condition1     1460 non-null   object \n",
      " 14  Condition2     1460 non-null   object \n",
      " 15  BldgType       1460 non-null   object \n",
      " 16  HouseStyle     1460 non-null   object \n",
      " 17  OverallQual    1460 non-null   int64  \n",
      " 18  OverallCond    1460 non-null   int64  \n",
      " 19  YearBuilt      1460 non-null   int64  \n",
      " 20  YearRemodAdd   1460 non-null   int64  \n",
      " 21  RoofStyle      1460 non-null   object \n",
      " 22  RoofMatl       1460 non-null   object \n",
      " 23  Exterior1st    1460 non-null   object \n",
      " 24  Exterior2nd    1460 non-null   object \n",
      " 25  MasVnrType     1460 non-null   object \n",
      " 26  MasVnrArea     1460 non-null   float64\n",
      " 27  ExterQual      1460 non-null   object \n",
      " 28  ExterCond      1460 non-null   object \n",
      " 29  Foundation     1460 non-null   object \n",
      " 30  BsmtQual       1460 non-null   object \n",
      " 31  BsmtCond       1460 non-null   object \n",
      " 32  BsmtExposure   1460 non-null   object \n",
      " 33  BsmtFinType1   1460 non-null   object \n",
      " 34  BsmtFinSF1     1460 non-null   int64  \n",
      " 35  BsmtFinType2   1460 non-null   object \n",
      " 36  BsmtFinSF2     1460 non-null   int64  \n",
      " 37  BsmtUnfSF      1460 non-null   int64  \n",
      " 38  TotalBsmtSF    1460 non-null   int64  \n",
      " 39  Heating        1460 non-null   object \n",
      " 40  HeatingQC      1460 non-null   object \n",
      " 41  CentralAir     1460 non-null   object \n",
      " 42  Electrical     1460 non-null   object \n",
      " 43  1stFlrSF       1460 non-null   int64  \n",
      " 44  2ndFlrSF       1460 non-null   int64  \n",
      " 45  LowQualFinSF   1460 non-null   int64  \n",
      " 46  GrLivArea      1460 non-null   int64  \n",
      " 47  BsmtFullBath   1460 non-null   int64  \n",
      " 48  BsmtHalfBath   1460 non-null   int64  \n",
      " 49  FullBath       1460 non-null   int64  \n",
      " 50  HalfBath       1460 non-null   int64  \n",
      " 51  BedroomAbvGr   1460 non-null   int64  \n",
      " 52  KitchenAbvGr   1460 non-null   int64  \n",
      " 53  KitchenQual    1460 non-null   object \n",
      " 54  TotRmsAbvGrd   1460 non-null   int64  \n",
      " 55  Functional     1460 non-null   object \n",
      " 56  Fireplaces     1460 non-null   int64  \n",
      " 57  FireplaceQu    1460 non-null   object \n",
      " 58  GarageType     1460 non-null   object \n",
      " 59  GarageYrBlt    1460 non-null   float64\n",
      " 60  GarageFinish   1460 non-null   object \n",
      " 61  GarageCars     1460 non-null   int64  \n",
      " 62  GarageArea     1460 non-null   int64  \n",
      " 63  GarageQual     1460 non-null   object \n",
      " 64  GarageCond     1460 non-null   object \n",
      " 65  PavedDrive     1460 non-null   object \n",
      " 66  WoodDeckSF     1460 non-null   int64  \n",
      " 67  OpenPorchSF    1460 non-null   int64  \n",
      " 68  EnclosedPorch  1460 non-null   int64  \n",
      " 69  3SsnPorch      1460 non-null   int64  \n",
      " 70  ScreenPorch    1460 non-null   int64  \n",
      " 71  PoolArea       1460 non-null   int64  \n",
      " 72  PoolQC         1460 non-null   object \n",
      " 73  Fence          1460 non-null   object \n",
      " 74  MiscFeature    1460 non-null   object \n",
      " 75  MiscVal        1460 non-null   int64  \n",
      " 76  MoSold         1460 non-null   int64  \n",
      " 77  YrSold         1460 non-null   int64  \n",
      " 78  SaleType       1460 non-null   object \n",
      " 79  SaleCondition  1460 non-null   object \n",
      " 80  SalePrice      1460 non-null   int64  \n",
      "dtypes: float64(3), int64(35), object(43)\n",
      "memory usage: 924.0+ KB\n"
     ]
    }
   ],
   "source": [
    "df.info()"
   ]
  },
  {
   "cell_type": "code",
   "execution_count": 6,
   "id": "0800c448",
   "metadata": {
    "execution": {
     "iopub.execute_input": "2024-10-28T06:38:57.669302Z",
     "iopub.status.busy": "2024-10-28T06:38:57.668735Z",
     "iopub.status.idle": "2024-10-28T06:38:57.776537Z",
     "shell.execute_reply": "2024-10-28T06:38:57.775219Z"
    },
    "papermill": {
     "duration": 0.121994,
     "end_time": "2024-10-28T06:38:57.779544",
     "exception": false,
     "start_time": "2024-10-28T06:38:57.657550",
     "status": "completed"
    },
    "tags": []
   },
   "outputs": [
    {
     "data": {
      "text/html": [
       "<div>\n",
       "<style scoped>\n",
       "    .dataframe tbody tr th:only-of-type {\n",
       "        vertical-align: middle;\n",
       "    }\n",
       "\n",
       "    .dataframe tbody tr th {\n",
       "        vertical-align: top;\n",
       "    }\n",
       "\n",
       "    .dataframe thead th {\n",
       "        text-align: right;\n",
       "    }\n",
       "</style>\n",
       "<table border=\"1\" class=\"dataframe\">\n",
       "  <thead>\n",
       "    <tr style=\"text-align: right;\">\n",
       "      <th></th>\n",
       "      <th>Id</th>\n",
       "      <th>MSSubClass</th>\n",
       "      <th>LotFrontage</th>\n",
       "      <th>LotArea</th>\n",
       "      <th>OverallQual</th>\n",
       "      <th>OverallCond</th>\n",
       "      <th>YearBuilt</th>\n",
       "      <th>YearRemodAdd</th>\n",
       "      <th>MasVnrArea</th>\n",
       "      <th>BsmtFinSF1</th>\n",
       "      <th>...</th>\n",
       "      <th>WoodDeckSF</th>\n",
       "      <th>OpenPorchSF</th>\n",
       "      <th>EnclosedPorch</th>\n",
       "      <th>3SsnPorch</th>\n",
       "      <th>ScreenPorch</th>\n",
       "      <th>PoolArea</th>\n",
       "      <th>MiscVal</th>\n",
       "      <th>MoSold</th>\n",
       "      <th>YrSold</th>\n",
       "      <th>SalePrice</th>\n",
       "    </tr>\n",
       "  </thead>\n",
       "  <tbody>\n",
       "    <tr>\n",
       "      <th>count</th>\n",
       "      <td>1460.000000</td>\n",
       "      <td>1460.000000</td>\n",
       "      <td>1460.000000</td>\n",
       "      <td>1460.000000</td>\n",
       "      <td>1460.000000</td>\n",
       "      <td>1460.000000</td>\n",
       "      <td>1460.000000</td>\n",
       "      <td>1460.000000</td>\n",
       "      <td>1460.000000</td>\n",
       "      <td>1460.000000</td>\n",
       "      <td>...</td>\n",
       "      <td>1460.000000</td>\n",
       "      <td>1460.000000</td>\n",
       "      <td>1460.000000</td>\n",
       "      <td>1460.000000</td>\n",
       "      <td>1460.000000</td>\n",
       "      <td>1460.000000</td>\n",
       "      <td>1460.000000</td>\n",
       "      <td>1460.000000</td>\n",
       "      <td>1460.000000</td>\n",
       "      <td>1460.000000</td>\n",
       "    </tr>\n",
       "    <tr>\n",
       "      <th>mean</th>\n",
       "      <td>730.500000</td>\n",
       "      <td>56.897260</td>\n",
       "      <td>57.623288</td>\n",
       "      <td>10516.828082</td>\n",
       "      <td>6.099315</td>\n",
       "      <td>5.575342</td>\n",
       "      <td>1971.267808</td>\n",
       "      <td>1984.865753</td>\n",
       "      <td>103.117123</td>\n",
       "      <td>443.639726</td>\n",
       "      <td>...</td>\n",
       "      <td>94.244521</td>\n",
       "      <td>46.660274</td>\n",
       "      <td>21.954110</td>\n",
       "      <td>3.409589</td>\n",
       "      <td>15.060959</td>\n",
       "      <td>2.758904</td>\n",
       "      <td>43.489041</td>\n",
       "      <td>6.321918</td>\n",
       "      <td>2007.815753</td>\n",
       "      <td>180921.195890</td>\n",
       "    </tr>\n",
       "    <tr>\n",
       "      <th>std</th>\n",
       "      <td>421.610009</td>\n",
       "      <td>42.300571</td>\n",
       "      <td>34.664304</td>\n",
       "      <td>9981.264932</td>\n",
       "      <td>1.382997</td>\n",
       "      <td>1.112799</td>\n",
       "      <td>30.202904</td>\n",
       "      <td>20.645407</td>\n",
       "      <td>180.731373</td>\n",
       "      <td>456.098091</td>\n",
       "      <td>...</td>\n",
       "      <td>125.338794</td>\n",
       "      <td>66.256028</td>\n",
       "      <td>61.119149</td>\n",
       "      <td>29.317331</td>\n",
       "      <td>55.757415</td>\n",
       "      <td>40.177307</td>\n",
       "      <td>496.123024</td>\n",
       "      <td>2.703626</td>\n",
       "      <td>1.328095</td>\n",
       "      <td>79442.502883</td>\n",
       "    </tr>\n",
       "    <tr>\n",
       "      <th>min</th>\n",
       "      <td>1.000000</td>\n",
       "      <td>20.000000</td>\n",
       "      <td>0.000000</td>\n",
       "      <td>1300.000000</td>\n",
       "      <td>1.000000</td>\n",
       "      <td>1.000000</td>\n",
       "      <td>1872.000000</td>\n",
       "      <td>1950.000000</td>\n",
       "      <td>0.000000</td>\n",
       "      <td>0.000000</td>\n",
       "      <td>...</td>\n",
       "      <td>0.000000</td>\n",
       "      <td>0.000000</td>\n",
       "      <td>0.000000</td>\n",
       "      <td>0.000000</td>\n",
       "      <td>0.000000</td>\n",
       "      <td>0.000000</td>\n",
       "      <td>0.000000</td>\n",
       "      <td>1.000000</td>\n",
       "      <td>2006.000000</td>\n",
       "      <td>34900.000000</td>\n",
       "    </tr>\n",
       "    <tr>\n",
       "      <th>25%</th>\n",
       "      <td>365.750000</td>\n",
       "      <td>20.000000</td>\n",
       "      <td>42.000000</td>\n",
       "      <td>7553.500000</td>\n",
       "      <td>5.000000</td>\n",
       "      <td>5.000000</td>\n",
       "      <td>1954.000000</td>\n",
       "      <td>1967.000000</td>\n",
       "      <td>0.000000</td>\n",
       "      <td>0.000000</td>\n",
       "      <td>...</td>\n",
       "      <td>0.000000</td>\n",
       "      <td>0.000000</td>\n",
       "      <td>0.000000</td>\n",
       "      <td>0.000000</td>\n",
       "      <td>0.000000</td>\n",
       "      <td>0.000000</td>\n",
       "      <td>0.000000</td>\n",
       "      <td>5.000000</td>\n",
       "      <td>2007.000000</td>\n",
       "      <td>129975.000000</td>\n",
       "    </tr>\n",
       "    <tr>\n",
       "      <th>50%</th>\n",
       "      <td>730.500000</td>\n",
       "      <td>50.000000</td>\n",
       "      <td>63.000000</td>\n",
       "      <td>9478.500000</td>\n",
       "      <td>6.000000</td>\n",
       "      <td>5.000000</td>\n",
       "      <td>1973.000000</td>\n",
       "      <td>1994.000000</td>\n",
       "      <td>0.000000</td>\n",
       "      <td>383.500000</td>\n",
       "      <td>...</td>\n",
       "      <td>0.000000</td>\n",
       "      <td>25.000000</td>\n",
       "      <td>0.000000</td>\n",
       "      <td>0.000000</td>\n",
       "      <td>0.000000</td>\n",
       "      <td>0.000000</td>\n",
       "      <td>0.000000</td>\n",
       "      <td>6.000000</td>\n",
       "      <td>2008.000000</td>\n",
       "      <td>163000.000000</td>\n",
       "    </tr>\n",
       "    <tr>\n",
       "      <th>75%</th>\n",
       "      <td>1095.250000</td>\n",
       "      <td>70.000000</td>\n",
       "      <td>79.000000</td>\n",
       "      <td>11601.500000</td>\n",
       "      <td>7.000000</td>\n",
       "      <td>6.000000</td>\n",
       "      <td>2000.000000</td>\n",
       "      <td>2004.000000</td>\n",
       "      <td>164.250000</td>\n",
       "      <td>712.250000</td>\n",
       "      <td>...</td>\n",
       "      <td>168.000000</td>\n",
       "      <td>68.000000</td>\n",
       "      <td>0.000000</td>\n",
       "      <td>0.000000</td>\n",
       "      <td>0.000000</td>\n",
       "      <td>0.000000</td>\n",
       "      <td>0.000000</td>\n",
       "      <td>8.000000</td>\n",
       "      <td>2009.000000</td>\n",
       "      <td>214000.000000</td>\n",
       "    </tr>\n",
       "    <tr>\n",
       "      <th>max</th>\n",
       "      <td>1460.000000</td>\n",
       "      <td>190.000000</td>\n",
       "      <td>313.000000</td>\n",
       "      <td>215245.000000</td>\n",
       "      <td>10.000000</td>\n",
       "      <td>9.000000</td>\n",
       "      <td>2010.000000</td>\n",
       "      <td>2010.000000</td>\n",
       "      <td>1600.000000</td>\n",
       "      <td>5644.000000</td>\n",
       "      <td>...</td>\n",
       "      <td>857.000000</td>\n",
       "      <td>547.000000</td>\n",
       "      <td>552.000000</td>\n",
       "      <td>508.000000</td>\n",
       "      <td>480.000000</td>\n",
       "      <td>738.000000</td>\n",
       "      <td>15500.000000</td>\n",
       "      <td>12.000000</td>\n",
       "      <td>2010.000000</td>\n",
       "      <td>755000.000000</td>\n",
       "    </tr>\n",
       "  </tbody>\n",
       "</table>\n",
       "<p>8 rows × 38 columns</p>\n",
       "</div>"
      ],
      "text/plain": [
       "                Id   MSSubClass  LotFrontage        LotArea  OverallQual  \\\n",
       "count  1460.000000  1460.000000  1460.000000    1460.000000  1460.000000   \n",
       "mean    730.500000    56.897260    57.623288   10516.828082     6.099315   \n",
       "std     421.610009    42.300571    34.664304    9981.264932     1.382997   \n",
       "min       1.000000    20.000000     0.000000    1300.000000     1.000000   \n",
       "25%     365.750000    20.000000    42.000000    7553.500000     5.000000   \n",
       "50%     730.500000    50.000000    63.000000    9478.500000     6.000000   \n",
       "75%    1095.250000    70.000000    79.000000   11601.500000     7.000000   \n",
       "max    1460.000000   190.000000   313.000000  215245.000000    10.000000   \n",
       "\n",
       "       OverallCond    YearBuilt  YearRemodAdd   MasVnrArea   BsmtFinSF1  ...  \\\n",
       "count  1460.000000  1460.000000   1460.000000  1460.000000  1460.000000  ...   \n",
       "mean      5.575342  1971.267808   1984.865753   103.117123   443.639726  ...   \n",
       "std       1.112799    30.202904     20.645407   180.731373   456.098091  ...   \n",
       "min       1.000000  1872.000000   1950.000000     0.000000     0.000000  ...   \n",
       "25%       5.000000  1954.000000   1967.000000     0.000000     0.000000  ...   \n",
       "50%       5.000000  1973.000000   1994.000000     0.000000   383.500000  ...   \n",
       "75%       6.000000  2000.000000   2004.000000   164.250000   712.250000  ...   \n",
       "max       9.000000  2010.000000   2010.000000  1600.000000  5644.000000  ...   \n",
       "\n",
       "        WoodDeckSF  OpenPorchSF  EnclosedPorch    3SsnPorch  ScreenPorch  \\\n",
       "count  1460.000000  1460.000000    1460.000000  1460.000000  1460.000000   \n",
       "mean     94.244521    46.660274      21.954110     3.409589    15.060959   \n",
       "std     125.338794    66.256028      61.119149    29.317331    55.757415   \n",
       "min       0.000000     0.000000       0.000000     0.000000     0.000000   \n",
       "25%       0.000000     0.000000       0.000000     0.000000     0.000000   \n",
       "50%       0.000000    25.000000       0.000000     0.000000     0.000000   \n",
       "75%     168.000000    68.000000       0.000000     0.000000     0.000000   \n",
       "max     857.000000   547.000000     552.000000   508.000000   480.000000   \n",
       "\n",
       "          PoolArea       MiscVal       MoSold       YrSold      SalePrice  \n",
       "count  1460.000000   1460.000000  1460.000000  1460.000000    1460.000000  \n",
       "mean      2.758904     43.489041     6.321918  2007.815753  180921.195890  \n",
       "std      40.177307    496.123024     2.703626     1.328095   79442.502883  \n",
       "min       0.000000      0.000000     1.000000  2006.000000   34900.000000  \n",
       "25%       0.000000      0.000000     5.000000  2007.000000  129975.000000  \n",
       "50%       0.000000      0.000000     6.000000  2008.000000  163000.000000  \n",
       "75%       0.000000      0.000000     8.000000  2009.000000  214000.000000  \n",
       "max     738.000000  15500.000000    12.000000  2010.000000  755000.000000  \n",
       "\n",
       "[8 rows x 38 columns]"
      ]
     },
     "execution_count": 6,
     "metadata": {},
     "output_type": "execute_result"
    }
   ],
   "source": [
    "df.describe()"
   ]
  },
  {
   "cell_type": "code",
   "execution_count": 7,
   "id": "b486e4fd",
   "metadata": {
    "execution": {
     "iopub.execute_input": "2024-10-28T06:38:57.802476Z",
     "iopub.status.busy": "2024-10-28T06:38:57.801897Z",
     "iopub.status.idle": "2024-10-28T06:38:57.816992Z",
     "shell.execute_reply": "2024-10-28T06:38:57.815750Z"
    },
    "papermill": {
     "duration": 0.030133,
     "end_time": "2024-10-28T06:38:57.820029",
     "exception": false,
     "start_time": "2024-10-28T06:38:57.789896",
     "status": "completed"
    },
    "tags": []
   },
   "outputs": [
    {
     "name": "stdout",
     "output_type": "stream",
     "text": [
      "Object Columns: ['MSZoning', 'Street', 'Alley', 'LotShape', 'LandContour', 'Utilities', 'LotConfig', 'LandSlope', 'Neighborhood', 'Condition1', 'Condition2', 'BldgType', 'HouseStyle', 'RoofStyle', 'RoofMatl', 'Exterior1st', 'Exterior2nd', 'MasVnrType', 'ExterQual', 'ExterCond', 'Foundation', 'BsmtQual', 'BsmtCond', 'BsmtExposure', 'BsmtFinType1', 'BsmtFinType2', 'Heating', 'HeatingQC', 'CentralAir', 'Electrical', 'KitchenQual', 'Functional', 'FireplaceQu', 'GarageType', 'GarageFinish', 'GarageQual', 'GarageCond', 'PavedDrive', 'PoolQC', 'Fence', 'MiscFeature', 'SaleType', 'SaleCondition']\n",
      "Integer Columns: ['Id', 'MSSubClass', 'LotArea', 'OverallQual', 'OverallCond', 'YearBuilt', 'YearRemodAdd', 'BsmtFinSF1', 'BsmtFinSF2', 'BsmtUnfSF', 'TotalBsmtSF', '1stFlrSF', '2ndFlrSF', 'LowQualFinSF', 'GrLivArea', 'BsmtFullBath', 'BsmtHalfBath', 'FullBath', 'HalfBath', 'BedroomAbvGr', 'KitchenAbvGr', 'TotRmsAbvGrd', 'Fireplaces', 'GarageCars', 'GarageArea', 'WoodDeckSF', 'OpenPorchSF', 'EnclosedPorch', '3SsnPorch', 'ScreenPorch', 'PoolArea', 'MiscVal', 'MoSold', 'YrSold', 'SalePrice']\n",
      "Float Columns: ['LotFrontage', 'MasVnrArea', 'GarageYrBlt']\n"
     ]
    }
   ],
   "source": [
    "# Finding int and float type columns\n",
    "obj_columns = df.select_dtypes(include=['object']).columns.tolist()\n",
    "int_columns = df.select_dtypes(include=['int']).columns.tolist()    # Find integer columns\n",
    "float_columns = df.select_dtypes(include=['float']).columns.tolist()  # Find float columns\n",
    "\n",
    "# Printing the results\n",
    "print(\"Object Columns:\", obj_columns)  # Print object columns\n",
    "print(\"Integer Columns:\", int_columns)  # Print integer columns\n",
    "print(\"Float Columns:\", float_columns)    # Print float columns\n"
   ]
  },
  {
   "cell_type": "markdown",
   "id": "62f19773",
   "metadata": {
    "papermill": {
     "duration": 0.009927,
     "end_time": "2024-10-28T06:38:57.840194",
     "exception": false,
     "start_time": "2024-10-28T06:38:57.830267",
     "status": "completed"
    },
    "tags": []
   },
   "source": [
    "**CONVERTING DATA TO NUMERIC**"
   ]
  },
  {
   "cell_type": "code",
   "execution_count": 8,
   "id": "9dfadee3",
   "metadata": {
    "execution": {
     "iopub.execute_input": "2024-10-28T06:38:57.862986Z",
     "iopub.status.busy": "2024-10-28T06:38:57.862449Z",
     "iopub.status.idle": "2024-10-28T06:38:57.900490Z",
     "shell.execute_reply": "2024-10-28T06:38:57.898989Z"
    },
    "papermill": {
     "duration": 0.052789,
     "end_time": "2024-10-28T06:38:57.903361",
     "exception": false,
     "start_time": "2024-10-28T06:38:57.850572",
     "status": "completed"
    },
    "tags": []
   },
   "outputs": [],
   "source": [
    "le = LabelEncoder()\n",
    "for col in obj_columns:\n",
    "    df[col] = le.fit_transform(df[col])"
   ]
  },
  {
   "cell_type": "markdown",
   "id": "14056e4d",
   "metadata": {
    "papermill": {
     "duration": 0.010128,
     "end_time": "2024-10-28T06:38:57.923716",
     "exception": false,
     "start_time": "2024-10-28T06:38:57.913588",
     "status": "completed"
    },
    "tags": []
   },
   "source": [
    "**SEPARATING DATA**"
   ]
  },
  {
   "cell_type": "code",
   "execution_count": 9,
   "id": "0b82104d",
   "metadata": {
    "execution": {
     "iopub.execute_input": "2024-10-28T06:38:57.946430Z",
     "iopub.status.busy": "2024-10-28T06:38:57.945906Z",
     "iopub.status.idle": "2024-10-28T06:38:57.971075Z",
     "shell.execute_reply": "2024-10-28T06:38:57.969704Z"
    },
    "papermill": {
     "duration": 0.039904,
     "end_time": "2024-10-28T06:38:57.973845",
     "exception": false,
     "start_time": "2024-10-28T06:38:57.933941",
     "status": "completed"
    },
    "tags": []
   },
   "outputs": [
    {
     "name": "stdout",
     "output_type": "stream",
     "text": [
      "Unimportant numerical features (unimp_num_features): 15 : ['Alley', 'Utilities', 'LandSlope', 'BldgType', 'BsmtFinSF2', 'LowQualFinSF', 'BsmtHalfBath', 'EnclosedPorch', '3SsnPorch', 'ScreenPorch', 'PoolArea', 'PoolQC', 'Fence', 'MiscFeature', 'MiscVal']\n"
     ]
    }
   ],
   "source": [
    "# Finding columns where more than 75% of the values are zero\n",
    "threshold = 0.75  # 75% threshold\n",
    "unimp_num_features = [col for col in df.columns if (df[col] == 0).sum() / len(df) > threshold]\n",
    "\n",
    "# Printing the results\n",
    "print(\"Unimportant numerical features (unimp_num_features):\", len(unimp_num_features), \":\", unimp_num_features)\n"
   ]
  },
  {
   "cell_type": "markdown",
   "id": "70ea82ab",
   "metadata": {
    "papermill": {
     "duration": 0.010046,
     "end_time": "2024-10-28T06:38:57.994488",
     "exception": false,
     "start_time": "2024-10-28T06:38:57.984442",
     "status": "completed"
    },
    "tags": []
   },
   "source": [
    "****PREPARING THE TRAINING DATA****"
   ]
  },
  {
   "cell_type": "code",
   "execution_count": 10,
   "id": "c916dd31",
   "metadata": {
    "execution": {
     "iopub.execute_input": "2024-10-28T06:38:58.021163Z",
     "iopub.status.busy": "2024-10-28T06:38:58.020132Z",
     "iopub.status.idle": "2024-10-28T06:38:58.030830Z",
     "shell.execute_reply": "2024-10-28T06:38:58.029502Z"
    },
    "papermill": {
     "duration": 0.026123,
     "end_time": "2024-10-28T06:38:58.033914",
     "exception": false,
     "start_time": "2024-10-28T06:38:58.007791",
     "status": "completed"
    },
    "tags": []
   },
   "outputs": [],
   "source": [
    "y = df['SalePrice']\n",
    "X = df.drop(['Id','SalePrice']+unimp_num_features, axis=1)"
   ]
  },
  {
   "cell_type": "code",
   "execution_count": 11,
   "id": "012fd1e8",
   "metadata": {
    "execution": {
     "iopub.execute_input": "2024-10-28T06:38:58.057370Z",
     "iopub.status.busy": "2024-10-28T06:38:58.056857Z",
     "iopub.status.idle": "2024-10-28T06:38:58.074090Z",
     "shell.execute_reply": "2024-10-28T06:38:58.072712Z"
    },
    "papermill": {
     "duration": 0.033035,
     "end_time": "2024-10-28T06:38:58.077687",
     "exception": false,
     "start_time": "2024-10-28T06:38:58.044652",
     "status": "completed"
    },
    "tags": []
   },
   "outputs": [],
   "source": [
    "X_train, x_test, y_train, y_test = train_test_split(X, y, random_state=60,train_size=0.9)"
   ]
  },
  {
   "cell_type": "code",
   "execution_count": 12,
   "id": "f4d6757a",
   "metadata": {
    "execution": {
     "iopub.execute_input": "2024-10-28T06:38:58.100844Z",
     "iopub.status.busy": "2024-10-28T06:38:58.100310Z",
     "iopub.status.idle": "2024-10-28T06:38:58.128857Z",
     "shell.execute_reply": "2024-10-28T06:38:58.127397Z"
    },
    "papermill": {
     "duration": 0.043869,
     "end_time": "2024-10-28T06:38:58.131993",
     "exception": false,
     "start_time": "2024-10-28T06:38:58.088124",
     "status": "completed"
    },
    "tags": []
   },
   "outputs": [
    {
     "data": {
      "text/html": [
       "<div>\n",
       "<style scoped>\n",
       "    .dataframe tbody tr th:only-of-type {\n",
       "        vertical-align: middle;\n",
       "    }\n",
       "\n",
       "    .dataframe tbody tr th {\n",
       "        vertical-align: top;\n",
       "    }\n",
       "\n",
       "    .dataframe thead th {\n",
       "        text-align: right;\n",
       "    }\n",
       "</style>\n",
       "<table border=\"1\" class=\"dataframe\">\n",
       "  <thead>\n",
       "    <tr style=\"text-align: right;\">\n",
       "      <th></th>\n",
       "      <th>MSSubClass</th>\n",
       "      <th>MSZoning</th>\n",
       "      <th>LotFrontage</th>\n",
       "      <th>LotArea</th>\n",
       "      <th>Street</th>\n",
       "      <th>LotShape</th>\n",
       "      <th>LandContour</th>\n",
       "      <th>LotConfig</th>\n",
       "      <th>Neighborhood</th>\n",
       "      <th>Condition1</th>\n",
       "      <th>...</th>\n",
       "      <th>GarageArea</th>\n",
       "      <th>GarageQual</th>\n",
       "      <th>GarageCond</th>\n",
       "      <th>PavedDrive</th>\n",
       "      <th>WoodDeckSF</th>\n",
       "      <th>OpenPorchSF</th>\n",
       "      <th>MoSold</th>\n",
       "      <th>YrSold</th>\n",
       "      <th>SaleType</th>\n",
       "      <th>SaleCondition</th>\n",
       "    </tr>\n",
       "  </thead>\n",
       "  <tbody>\n",
       "    <tr>\n",
       "      <th>0</th>\n",
       "      <td>60</td>\n",
       "      <td>3</td>\n",
       "      <td>65.0</td>\n",
       "      <td>8450</td>\n",
       "      <td>1</td>\n",
       "      <td>3</td>\n",
       "      <td>3</td>\n",
       "      <td>4</td>\n",
       "      <td>5</td>\n",
       "      <td>2</td>\n",
       "      <td>...</td>\n",
       "      <td>548</td>\n",
       "      <td>5</td>\n",
       "      <td>5</td>\n",
       "      <td>2</td>\n",
       "      <td>0</td>\n",
       "      <td>61</td>\n",
       "      <td>2</td>\n",
       "      <td>2008</td>\n",
       "      <td>8</td>\n",
       "      <td>4</td>\n",
       "    </tr>\n",
       "    <tr>\n",
       "      <th>1</th>\n",
       "      <td>20</td>\n",
       "      <td>3</td>\n",
       "      <td>80.0</td>\n",
       "      <td>9600</td>\n",
       "      <td>1</td>\n",
       "      <td>3</td>\n",
       "      <td>3</td>\n",
       "      <td>2</td>\n",
       "      <td>24</td>\n",
       "      <td>1</td>\n",
       "      <td>...</td>\n",
       "      <td>460</td>\n",
       "      <td>5</td>\n",
       "      <td>5</td>\n",
       "      <td>2</td>\n",
       "      <td>298</td>\n",
       "      <td>0</td>\n",
       "      <td>5</td>\n",
       "      <td>2007</td>\n",
       "      <td>8</td>\n",
       "      <td>4</td>\n",
       "    </tr>\n",
       "    <tr>\n",
       "      <th>2</th>\n",
       "      <td>60</td>\n",
       "      <td>3</td>\n",
       "      <td>68.0</td>\n",
       "      <td>11250</td>\n",
       "      <td>1</td>\n",
       "      <td>0</td>\n",
       "      <td>3</td>\n",
       "      <td>4</td>\n",
       "      <td>5</td>\n",
       "      <td>2</td>\n",
       "      <td>...</td>\n",
       "      <td>608</td>\n",
       "      <td>5</td>\n",
       "      <td>5</td>\n",
       "      <td>2</td>\n",
       "      <td>0</td>\n",
       "      <td>42</td>\n",
       "      <td>9</td>\n",
       "      <td>2008</td>\n",
       "      <td>8</td>\n",
       "      <td>4</td>\n",
       "    </tr>\n",
       "    <tr>\n",
       "      <th>3</th>\n",
       "      <td>70</td>\n",
       "      <td>3</td>\n",
       "      <td>60.0</td>\n",
       "      <td>9550</td>\n",
       "      <td>1</td>\n",
       "      <td>0</td>\n",
       "      <td>3</td>\n",
       "      <td>0</td>\n",
       "      <td>6</td>\n",
       "      <td>2</td>\n",
       "      <td>...</td>\n",
       "      <td>642</td>\n",
       "      <td>5</td>\n",
       "      <td>5</td>\n",
       "      <td>2</td>\n",
       "      <td>0</td>\n",
       "      <td>35</td>\n",
       "      <td>2</td>\n",
       "      <td>2006</td>\n",
       "      <td>8</td>\n",
       "      <td>0</td>\n",
       "    </tr>\n",
       "    <tr>\n",
       "      <th>4</th>\n",
       "      <td>60</td>\n",
       "      <td>3</td>\n",
       "      <td>84.0</td>\n",
       "      <td>14260</td>\n",
       "      <td>1</td>\n",
       "      <td>0</td>\n",
       "      <td>3</td>\n",
       "      <td>2</td>\n",
       "      <td>15</td>\n",
       "      <td>2</td>\n",
       "      <td>...</td>\n",
       "      <td>836</td>\n",
       "      <td>5</td>\n",
       "      <td>5</td>\n",
       "      <td>2</td>\n",
       "      <td>192</td>\n",
       "      <td>84</td>\n",
       "      <td>12</td>\n",
       "      <td>2008</td>\n",
       "      <td>8</td>\n",
       "      <td>4</td>\n",
       "    </tr>\n",
       "  </tbody>\n",
       "</table>\n",
       "<p>5 rows × 64 columns</p>\n",
       "</div>"
      ],
      "text/plain": [
       "   MSSubClass  MSZoning  LotFrontage  LotArea  Street  LotShape  LandContour  \\\n",
       "0          60         3         65.0     8450       1         3            3   \n",
       "1          20         3         80.0     9600       1         3            3   \n",
       "2          60         3         68.0    11250       1         0            3   \n",
       "3          70         3         60.0     9550       1         0            3   \n",
       "4          60         3         84.0    14260       1         0            3   \n",
       "\n",
       "   LotConfig  Neighborhood  Condition1  ...  GarageArea  GarageQual  \\\n",
       "0          4             5           2  ...         548           5   \n",
       "1          2            24           1  ...         460           5   \n",
       "2          4             5           2  ...         608           5   \n",
       "3          0             6           2  ...         642           5   \n",
       "4          2            15           2  ...         836           5   \n",
       "\n",
       "   GarageCond  PavedDrive  WoodDeckSF  OpenPorchSF  MoSold  YrSold  SaleType  \\\n",
       "0           5           2           0           61       2    2008         8   \n",
       "1           5           2         298            0       5    2007         8   \n",
       "2           5           2           0           42       9    2008         8   \n",
       "3           5           2           0           35       2    2006         8   \n",
       "4           5           2         192           84      12    2008         8   \n",
       "\n",
       "   SaleCondition  \n",
       "0              4  \n",
       "1              4  \n",
       "2              4  \n",
       "3              0  \n",
       "4              4  \n",
       "\n",
       "[5 rows x 64 columns]"
      ]
     },
     "execution_count": 12,
     "metadata": {},
     "output_type": "execute_result"
    }
   ],
   "source": [
    "X.head()"
   ]
  },
  {
   "cell_type": "code",
   "execution_count": 13,
   "id": "9d5dd1d5",
   "metadata": {
    "execution": {
     "iopub.execute_input": "2024-10-28T06:38:58.155833Z",
     "iopub.status.busy": "2024-10-28T06:38:58.155342Z",
     "iopub.status.idle": "2024-10-28T06:38:58.182934Z",
     "shell.execute_reply": "2024-10-28T06:38:58.181459Z"
    },
    "papermill": {
     "duration": 0.043269,
     "end_time": "2024-10-28T06:38:58.186096",
     "exception": false,
     "start_time": "2024-10-28T06:38:58.142827",
     "status": "completed"
    },
    "tags": []
   },
   "outputs": [
    {
     "name": "stdout",
     "output_type": "stream",
     "text": [
      "<class 'pandas.core.frame.DataFrame'>\n",
      "RangeIndex: 1460 entries, 0 to 1459\n",
      "Data columns (total 64 columns):\n",
      " #   Column         Non-Null Count  Dtype  \n",
      "---  ------         --------------  -----  \n",
      " 0   MSSubClass     1460 non-null   int64  \n",
      " 1   MSZoning       1460 non-null   int64  \n",
      " 2   LotFrontage    1460 non-null   float64\n",
      " 3   LotArea        1460 non-null   int64  \n",
      " 4   Street         1460 non-null   int64  \n",
      " 5   LotShape       1460 non-null   int64  \n",
      " 6   LandContour    1460 non-null   int64  \n",
      " 7   LotConfig      1460 non-null   int64  \n",
      " 8   Neighborhood   1460 non-null   int64  \n",
      " 9   Condition1     1460 non-null   int64  \n",
      " 10  Condition2     1460 non-null   int64  \n",
      " 11  HouseStyle     1460 non-null   int64  \n",
      " 12  OverallQual    1460 non-null   int64  \n",
      " 13  OverallCond    1460 non-null   int64  \n",
      " 14  YearBuilt      1460 non-null   int64  \n",
      " 15  YearRemodAdd   1460 non-null   int64  \n",
      " 16  RoofStyle      1460 non-null   int64  \n",
      " 17  RoofMatl       1460 non-null   int64  \n",
      " 18  Exterior1st    1460 non-null   int64  \n",
      " 19  Exterior2nd    1460 non-null   int64  \n",
      " 20  MasVnrType     1460 non-null   int64  \n",
      " 21  MasVnrArea     1460 non-null   float64\n",
      " 22  ExterQual      1460 non-null   int64  \n",
      " 23  ExterCond      1460 non-null   int64  \n",
      " 24  Foundation     1460 non-null   int64  \n",
      " 25  BsmtQual       1460 non-null   int64  \n",
      " 26  BsmtCond       1460 non-null   int64  \n",
      " 27  BsmtExposure   1460 non-null   int64  \n",
      " 28  BsmtFinType1   1460 non-null   int64  \n",
      " 29  BsmtFinSF1     1460 non-null   int64  \n",
      " 30  BsmtFinType2   1460 non-null   int64  \n",
      " 31  BsmtUnfSF      1460 non-null   int64  \n",
      " 32  TotalBsmtSF    1460 non-null   int64  \n",
      " 33  Heating        1460 non-null   int64  \n",
      " 34  HeatingQC      1460 non-null   int64  \n",
      " 35  CentralAir     1460 non-null   int64  \n",
      " 36  Electrical     1460 non-null   int64  \n",
      " 37  1stFlrSF       1460 non-null   int64  \n",
      " 38  2ndFlrSF       1460 non-null   int64  \n",
      " 39  GrLivArea      1460 non-null   int64  \n",
      " 40  BsmtFullBath   1460 non-null   int64  \n",
      " 41  FullBath       1460 non-null   int64  \n",
      " 42  HalfBath       1460 non-null   int64  \n",
      " 43  BedroomAbvGr   1460 non-null   int64  \n",
      " 44  KitchenAbvGr   1460 non-null   int64  \n",
      " 45  KitchenQual    1460 non-null   int64  \n",
      " 46  TotRmsAbvGrd   1460 non-null   int64  \n",
      " 47  Functional     1460 non-null   int64  \n",
      " 48  Fireplaces     1460 non-null   int64  \n",
      " 49  FireplaceQu    1460 non-null   int64  \n",
      " 50  GarageType     1460 non-null   int64  \n",
      " 51  GarageYrBlt    1460 non-null   float64\n",
      " 52  GarageFinish   1460 non-null   int64  \n",
      " 53  GarageCars     1460 non-null   int64  \n",
      " 54  GarageArea     1460 non-null   int64  \n",
      " 55  GarageQual     1460 non-null   int64  \n",
      " 56  GarageCond     1460 non-null   int64  \n",
      " 57  PavedDrive     1460 non-null   int64  \n",
      " 58  WoodDeckSF     1460 non-null   int64  \n",
      " 59  OpenPorchSF    1460 non-null   int64  \n",
      " 60  MoSold         1460 non-null   int64  \n",
      " 61  YrSold         1460 non-null   int64  \n",
      " 62  SaleType       1460 non-null   int64  \n",
      " 63  SaleCondition  1460 non-null   int64  \n",
      "dtypes: float64(3), int64(61)\n",
      "memory usage: 730.1 KB\n"
     ]
    }
   ],
   "source": [
    "X.info()"
   ]
  },
  {
   "cell_type": "markdown",
   "id": "7c733af7",
   "metadata": {
    "papermill": {
     "duration": 0.010316,
     "end_time": "2024-10-28T06:38:58.207285",
     "exception": false,
     "start_time": "2024-10-28T06:38:58.196969",
     "status": "completed"
    },
    "tags": []
   },
   "source": [
    "**TRAINING THE MODEL**\n",
    "* LGB Model"
   ]
  },
  {
   "cell_type": "code",
   "execution_count": 14,
   "id": "a0b8e95d",
   "metadata": {
    "execution": {
     "iopub.execute_input": "2024-10-28T06:38:58.231434Z",
     "iopub.status.busy": "2024-10-28T06:38:58.230462Z",
     "iopub.status.idle": "2024-10-28T06:39:18.120686Z",
     "shell.execute_reply": "2024-10-28T06:39:18.119442Z"
    },
    "papermill": {
     "duration": 19.905681,
     "end_time": "2024-10-28T06:39:18.123592",
     "exception": false,
     "start_time": "2024-10-28T06:38:58.217911",
     "status": "completed"
    },
    "tags": []
   },
   "outputs": [
    {
     "name": "stdout",
     "output_type": "stream",
     "text": [
      "Mean Squared Error: 5316154.331322902\n",
      "R² Score: 0.9993859149678057\n"
     ]
    }
   ],
   "source": [
    "import lightgbm as lgb\n",
    "from sklearn.metrics import mean_squared_error, r2_score\n",
    "from sklearn.model_selection import train_test_split\n",
    "# Creating a LightGBM Dataset\n",
    "train_data = lgb.Dataset(X, label=y)\n",
    "\n",
    "# Define Model Parameters\n",
    "params = {\n",
    "    'objective': 'regression',\n",
    "    'metric': 'rmse',\n",
    "    'boosting_type': 'dart',\n",
    "    'num_leaves': 64,\n",
    "    'learning_rate': 0.25,\n",
    "    'feature_fraction': 0.6,\n",
    "    'verbose': -1\n",
    "}\n",
    "\n",
    "# Train the Model\n",
    "lgb_model = lgb.train(params, train_data, num_boost_round=1000)\n",
    "# Make Predictions on the Test Set\n",
    "y_pred = lgb_model.predict(x_test, num_iteration=lgb_model.best_iteration)\n",
    "# Evaluate the Performance\n",
    "mse = mean_squared_error(y_test, y_pred)\n",
    "r2 = r2_score(y_test, y_pred)\n",
    "\n",
    "print(f\"Mean Squared Error: {mse}\")\n",
    "print(f\"R² Score: {r2}\")"
   ]
  },
  {
   "cell_type": "markdown",
   "id": "829a55d5",
   "metadata": {
    "papermill": {
     "duration": 0.010362,
     "end_time": "2024-10-28T06:39:18.144860",
     "exception": false,
     "start_time": "2024-10-28T06:39:18.134498",
     "status": "completed"
    },
    "tags": []
   },
   "source": [
    "**PROCEDURES REQUIRED FOR TESTING**"
   ]
  },
  {
   "cell_type": "code",
   "execution_count": 15,
   "id": "297536d3",
   "metadata": {
    "execution": {
     "iopub.execute_input": "2024-10-28T06:39:18.169324Z",
     "iopub.status.busy": "2024-10-28T06:39:18.168526Z",
     "iopub.status.idle": "2024-10-28T06:39:18.430603Z",
     "shell.execute_reply": "2024-10-28T06:39:18.429334Z"
    },
    "papermill": {
     "duration": 0.278005,
     "end_time": "2024-10-28T06:39:18.433737",
     "exception": false,
     "start_time": "2024-10-28T06:39:18.155732",
     "status": "completed"
    },
    "tags": []
   },
   "outputs": [],
   "source": [
    "df_test = pd.read_csv('/kaggle/input/home-data-for-ml-course/test.csv.gz')\n",
    "df_test[df_test.select_dtypes(include=['object']).columns] = df_test.select_dtypes(include=['object']).fillna(value='')\n",
    "df_test[df_test.select_dtypes(include=['int', 'float']).columns] = df_test.select_dtypes(include=['int', 'float']).fillna(value=0)\n",
    "for col in obj_columns:\n",
    "    df_test[col] = le.fit_transform(df_test[col])\n",
    "x_test_t2 = df_test.drop(['Id']+unimp_num_features, axis=1)"
   ]
  },
  {
   "cell_type": "markdown",
   "id": "b22ac548",
   "metadata": {
    "papermill": {
     "duration": 0.010362,
     "end_time": "2024-10-28T06:39:18.454912",
     "exception": false,
     "start_time": "2024-10-28T06:39:18.444550",
     "status": "completed"
    },
    "tags": []
   },
   "source": [
    "**SUMMIT**"
   ]
  },
  {
   "cell_type": "code",
   "execution_count": 16,
   "id": "b8750e1e",
   "metadata": {
    "execution": {
     "iopub.execute_input": "2024-10-28T06:39:18.479453Z",
     "iopub.status.busy": "2024-10-28T06:39:18.478439Z",
     "iopub.status.idle": "2024-10-28T06:39:18.563954Z",
     "shell.execute_reply": "2024-10-28T06:39:18.562681Z"
    },
    "papermill": {
     "duration": 0.101202,
     "end_time": "2024-10-28T06:39:18.567056",
     "exception": false,
     "start_time": "2024-10-28T06:39:18.465854",
     "status": "completed"
    },
    "tags": []
   },
   "outputs": [],
   "source": [
    "predictions = lgb_model.predict(x_test_t2)\n",
    "\n",
    "ids = range(1461, 1461 + len(predictions))\n",
    "\n",
    "submission = pd.DataFrame({'Id': ids, 'SalePrice': predictions})\n",
    "\n",
    "submission.to_csv('submission.csv', index=False)"
   ]
  },
  {
   "cell_type": "code",
   "execution_count": null,
   "id": "c1327e10",
   "metadata": {
    "papermill": {
     "duration": 0.010308,
     "end_time": "2024-10-28T06:39:18.588195",
     "exception": false,
     "start_time": "2024-10-28T06:39:18.577887",
     "status": "completed"
    },
    "tags": []
   },
   "outputs": [],
   "source": []
  },
  {
   "cell_type": "code",
   "execution_count": null,
   "id": "9294d417",
   "metadata": {
    "papermill": {
     "duration": 0.010463,
     "end_time": "2024-10-28T06:39:18.609588",
     "exception": false,
     "start_time": "2024-10-28T06:39:18.599125",
     "status": "completed"
    },
    "tags": []
   },
   "outputs": [],
   "source": []
  }
 ],
 "metadata": {
  "kaggle": {
   "accelerator": "none",
   "dataSources": [
    {
     "databundleVersionId": 111096,
     "sourceId": 10211,
     "sourceType": "competition"
    }
   ],
   "dockerImageVersionId": 30786,
   "isGpuEnabled": false,
   "isInternetEnabled": false,
   "language": "python",
   "sourceType": "notebook"
  },
  "kernelspec": {
   "display_name": "Python 3",
   "language": "python",
   "name": "python3"
  },
  "language_info": {
   "codemirror_mode": {
    "name": "ipython",
    "version": 3
   },
   "file_extension": ".py",
   "mimetype": "text/x-python",
   "name": "python",
   "nbconvert_exporter": "python",
   "pygments_lexer": "ipython3",
   "version": "3.10.14"
  },
  "papermill": {
   "default_parameters": {},
   "duration": 28.843114,
   "end_time": "2024-10-28T06:39:19.745127",
   "environment_variables": {},
   "exception": null,
   "input_path": "__notebook__.ipynb",
   "output_path": "__notebook__.ipynb",
   "parameters": {},
   "start_time": "2024-10-28T06:38:50.902013",
   "version": "2.6.0"
  }
 },
 "nbformat": 4,
 "nbformat_minor": 5
}
